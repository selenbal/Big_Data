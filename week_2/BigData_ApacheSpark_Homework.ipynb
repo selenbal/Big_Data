{
  "nbformat": 4,
  "nbformat_minor": 0,
  "metadata": {
    "colab": {
      "provenance": []
    },
    "kernelspec": {
      "name": "python3",
      "display_name": "Python 3"
    },
    "language_info": {
      "name": "python"
    }
  },
  "cells": [
    {
      "cell_type": "code",
      "execution_count": 3,
      "metadata": {
        "id": "iN8HM30fsHjZ"
      },
      "outputs": [],
      "source": [
        "!apt-get -qq update > /tmp/apt.out\n",
        "!apt-get install -y -qq openjdk-11-jdk-headless\n",
        "!(wget -q --show-progress -nc https://archive.apache.org/dist/spark/spark-3.2.1/spark-3.2.1-bin-hadoop3.2.tgz)\n",
        "!tar xf spark-3.2.1-bin-hadoop3.2.tgz\n",
        "try:\n",
        "  import pyspark, findspark, delta\n",
        "except:\n",
        "  %pip install -q --upgrade pyspark==3.2.1\n",
        "  %pip install -q findspark\n",
        "  %pip install -q delta"
      ]
    },
    {
      "cell_type": "code",
      "source": [
        "!pip install gcsfs"
      ],
      "metadata": {
        "colab": {
          "base_uri": "https://localhost:8080/"
        },
        "id": "mrzkPZv3yM2P",
        "outputId": "11b71868-f3ed-4a49-e368-1b5b7e665f63"
      },
      "execution_count": 4,
      "outputs": [
        {
          "output_type": "stream",
          "name": "stdout",
          "text": [
            "Requirement already satisfied: gcsfs in /usr/local/lib/python3.10/dist-packages (2023.6.0)\n",
            "Requirement already satisfied: aiohttp!=4.0.0a0,!=4.0.0a1 in /usr/local/lib/python3.10/dist-packages (from gcsfs) (3.9.3)\n",
            "Requirement already satisfied: decorator>4.1.2 in /usr/local/lib/python3.10/dist-packages (from gcsfs) (4.4.2)\n",
            "Requirement already satisfied: fsspec==2023.6.0 in /usr/local/lib/python3.10/dist-packages (from gcsfs) (2023.6.0)\n",
            "Requirement already satisfied: google-auth>=1.2 in /usr/local/lib/python3.10/dist-packages (from gcsfs) (2.27.0)\n",
            "Requirement already satisfied: google-auth-oauthlib in /usr/local/lib/python3.10/dist-packages (from gcsfs) (1.2.0)\n",
            "Requirement already satisfied: google-cloud-storage in /usr/local/lib/python3.10/dist-packages (from gcsfs) (2.8.0)\n",
            "Requirement already satisfied: requests in /usr/local/lib/python3.10/dist-packages (from gcsfs) (2.31.0)\n",
            "Requirement already satisfied: aiosignal>=1.1.2 in /usr/local/lib/python3.10/dist-packages (from aiohttp!=4.0.0a0,!=4.0.0a1->gcsfs) (1.3.1)\n",
            "Requirement already satisfied: attrs>=17.3.0 in /usr/local/lib/python3.10/dist-packages (from aiohttp!=4.0.0a0,!=4.0.0a1->gcsfs) (23.2.0)\n",
            "Requirement already satisfied: frozenlist>=1.1.1 in /usr/local/lib/python3.10/dist-packages (from aiohttp!=4.0.0a0,!=4.0.0a1->gcsfs) (1.4.1)\n",
            "Requirement already satisfied: multidict<7.0,>=4.5 in /usr/local/lib/python3.10/dist-packages (from aiohttp!=4.0.0a0,!=4.0.0a1->gcsfs) (6.0.5)\n",
            "Requirement already satisfied: yarl<2.0,>=1.0 in /usr/local/lib/python3.10/dist-packages (from aiohttp!=4.0.0a0,!=4.0.0a1->gcsfs) (1.9.4)\n",
            "Requirement already satisfied: async-timeout<5.0,>=4.0 in /usr/local/lib/python3.10/dist-packages (from aiohttp!=4.0.0a0,!=4.0.0a1->gcsfs) (4.0.3)\n",
            "Requirement already satisfied: cachetools<6.0,>=2.0.0 in /usr/local/lib/python3.10/dist-packages (from google-auth>=1.2->gcsfs) (5.3.3)\n",
            "Requirement already satisfied: pyasn1-modules>=0.2.1 in /usr/local/lib/python3.10/dist-packages (from google-auth>=1.2->gcsfs) (0.3.0)\n",
            "Requirement already satisfied: rsa<5,>=3.1.4 in /usr/local/lib/python3.10/dist-packages (from google-auth>=1.2->gcsfs) (4.9)\n",
            "Requirement already satisfied: requests-oauthlib>=0.7.0 in /usr/local/lib/python3.10/dist-packages (from google-auth-oauthlib->gcsfs) (1.3.1)\n",
            "Requirement already satisfied: google-api-core!=2.0.*,!=2.1.*,!=2.2.*,!=2.3.0,<3.0.0dev,>=1.31.5 in /usr/local/lib/python3.10/dist-packages (from google-cloud-storage->gcsfs) (2.11.1)\n",
            "Requirement already satisfied: google-cloud-core<3.0dev,>=2.3.0 in /usr/local/lib/python3.10/dist-packages (from google-cloud-storage->gcsfs) (2.3.3)\n",
            "Requirement already satisfied: google-resumable-media>=2.3.2 in /usr/local/lib/python3.10/dist-packages (from google-cloud-storage->gcsfs) (2.7.0)\n",
            "Requirement already satisfied: charset-normalizer<4,>=2 in /usr/local/lib/python3.10/dist-packages (from requests->gcsfs) (3.3.2)\n",
            "Requirement already satisfied: idna<4,>=2.5 in /usr/local/lib/python3.10/dist-packages (from requests->gcsfs) (3.6)\n",
            "Requirement already satisfied: urllib3<3,>=1.21.1 in /usr/local/lib/python3.10/dist-packages (from requests->gcsfs) (2.0.7)\n",
            "Requirement already satisfied: certifi>=2017.4.17 in /usr/local/lib/python3.10/dist-packages (from requests->gcsfs) (2024.2.2)\n",
            "Requirement already satisfied: googleapis-common-protos<2.0.dev0,>=1.56.2 in /usr/local/lib/python3.10/dist-packages (from google-api-core!=2.0.*,!=2.1.*,!=2.2.*,!=2.3.0,<3.0.0dev,>=1.31.5->google-cloud-storage->gcsfs) (1.62.0)\n",
            "Requirement already satisfied: protobuf!=3.20.0,!=3.20.1,!=4.21.0,!=4.21.1,!=4.21.2,!=4.21.3,!=4.21.4,!=4.21.5,<5.0.0.dev0,>=3.19.5 in /usr/local/lib/python3.10/dist-packages (from google-api-core!=2.0.*,!=2.1.*,!=2.2.*,!=2.3.0,<3.0.0dev,>=1.31.5->google-cloud-storage->gcsfs) (3.20.3)\n",
            "Requirement already satisfied: google-crc32c<2.0dev,>=1.0 in /usr/local/lib/python3.10/dist-packages (from google-resumable-media>=2.3.2->google-cloud-storage->gcsfs) (1.5.0)\n",
            "Requirement already satisfied: pyasn1<0.6.0,>=0.4.6 in /usr/local/lib/python3.10/dist-packages (from pyasn1-modules>=0.2.1->google-auth>=1.2->gcsfs) (0.5.1)\n",
            "Requirement already satisfied: oauthlib>=3.0.0 in /usr/local/lib/python3.10/dist-packages (from requests-oauthlib>=0.7.0->google-auth-oauthlib->gcsfs) (3.2.2)\n"
          ]
        }
      ]
    },
    {
      "cell_type": "code",
      "source": [
        "!(wget -O /content/spark-3.2.1-bin-hadoop3.2/jars/gcs-connector-hadoop2-latest.jar  -q https://storage.googleapis.com/hadoop-lib/gcs/gcs-connector-hadoop3.2-latest.jar)"
      ],
      "metadata": {
        "id": "_NQybIdovnH7"
      },
      "execution_count": 5,
      "outputs": []
    },
    {
      "cell_type": "code",
      "source": [
        "import findspark\n",
        "import pyspark\n",
        "import os\n",
        "from pyspark.sql.functions import *\n",
        "\n",
        "os.environ[\"JAVA_HOME\"] = \"/usr/lib/jvm/java-11-openjdk-amd64\"\n",
        "os.environ[\"SPARK_HOME\"] = \"/content/spark-3.2.1-bin-hadoop3.2\"\n",
        "\n",
        "findspark.init()\n",
        "MAX_MEMORY=\"8g\"\n",
        "\n",
        "spark = (pyspark.sql.SparkSession.builder.appName(\"MyApp\")\n",
        "    .config(\"spark.executor.memory\", MAX_MEMORY)\n",
        "    .config(\"spark.driver.memory\", MAX_MEMORY)\n",
        "    .getOrCreate()\n",
        "    )\n",
        "\n",
        "spark"
      ],
      "metadata": {
        "colab": {
          "base_uri": "https://localhost:8080/",
          "height": 219
        },
        "id": "RofOJZjTsPPK",
        "outputId": "c39bdcd2-bd38-4b11-e9a6-efbf522cbd39"
      },
      "execution_count": 6,
      "outputs": [
        {
          "output_type": "execute_result",
          "data": {
            "text/plain": [
              "<pyspark.sql.session.SparkSession at 0x78361db8b790>"
            ],
            "text/html": [
              "\n",
              "            <div>\n",
              "                <p><b>SparkSession - in-memory</b></p>\n",
              "                \n",
              "        <div>\n",
              "            <p><b>SparkContext</b></p>\n",
              "\n",
              "            <p><a href=\"http://20713df6ea77:4040\">Spark UI</a></p>\n",
              "\n",
              "            <dl>\n",
              "              <dt>Version</dt>\n",
              "                <dd><code>v3.2.1</code></dd>\n",
              "              <dt>Master</dt>\n",
              "                <dd><code>local[*]</code></dd>\n",
              "              <dt>AppName</dt>\n",
              "                <dd><code>MyApp</code></dd>\n",
              "            </dl>\n",
              "        </div>\n",
              "        \n",
              "            </div>\n",
              "        "
            ]
          },
          "metadata": {},
          "execution_count": 6
        }
      ]
    },
    {
      "cell_type": "code",
      "source": [
        "#spark.stop()"
      ],
      "metadata": {
        "id": "lNk7dRFywBFb"
      },
      "execution_count": null,
      "outputs": []
    },
    {
      "cell_type": "code",
      "source": [
        "!wget https://storage.googleapis.com/bigdata_training/Titanic.parquet"
      ],
      "metadata": {
        "colab": {
          "base_uri": "https://localhost:8080/"
        },
        "id": "z80kjlGo46Se",
        "outputId": "d9812b74-d00f-4e11-af56-43e67cd7e4c5"
      },
      "execution_count": 7,
      "outputs": [
        {
          "output_type": "stream",
          "name": "stdout",
          "text": [
            "--2024-03-13 16:01:25--  https://storage.googleapis.com/bigdata_training/Titanic.parquet\n",
            "Resolving storage.googleapis.com (storage.googleapis.com)... 209.85.145.207, 172.217.219.207, 209.85.146.207, ...\n",
            "Connecting to storage.googleapis.com (storage.googleapis.com)|209.85.145.207|:443... connected.\n",
            "HTTP request sent, awaiting response... 200 OK\n",
            "Length: 40013 (39K) [application/octet-stream]\n",
            "Saving to: ‘Titanic.parquet’\n",
            "\n",
            "Titanic.parquet     100%[===================>]  39.08K  --.-KB/s    in 0.02s   \n",
            "\n",
            "2024-03-13 16:01:26 (1.69 MB/s) - ‘Titanic.parquet’ saved [40013/40013]\n",
            "\n"
          ]
        }
      ]
    },
    {
      "cell_type": "code",
      "source": [
        "df_passengers = spark.read.parquet(\"Titanic.parquet\")\n",
        "df_passengers.show()"
      ],
      "metadata": {
        "colab": {
          "base_uri": "https://localhost:8080/"
        },
        "id": "R5O8pGvXsQJi",
        "outputId": "a08d12d6-2a24-45c6-bbe5-99193e24e2f4"
      },
      "execution_count": 8,
      "outputs": [
        {
          "output_type": "stream",
          "name": "stdout",
          "text": [
            "+-----------+--------+------+--------------------+------+----+-----+-----+----------------+-------+-----+--------+\n",
            "|PassengerId|Survived|Pclass|                Name|   Sex| Age|SibSp|Parch|          Ticket|   Fare|Cabin|Embarked|\n",
            "+-----------+--------+------+--------------------+------+----+-----+-----+----------------+-------+-----+--------+\n",
            "|          1|       0|     3|Braund, Mr. Owen ...|  male|22.0|    1|    0|       A/5 21171|   7.25| null|       S|\n",
            "|          2|       1|     1|Cumings, Mrs. Joh...|female|38.0|    1|    0|        PC 17599|71.2833|  C85|       C|\n",
            "|          3|       1|     3|Heikkinen, Miss. ...|female|26.0|    0|    0|STON/O2. 3101282|  7.925| null|       S|\n",
            "|          4|       1|     1|Futrelle, Mrs. Ja...|female|35.0|    1|    0|          113803|   53.1| C123|       S|\n",
            "|          5|       0|     3|Allen, Mr. Willia...|  male|35.0|    0|    0|          373450|   8.05| null|       S|\n",
            "|          6|       0|     3|    Moran, Mr. James|  male|null|    0|    0|          330877| 8.4583| null|       Q|\n",
            "|          7|       0|     1|McCarthy, Mr. Tim...|  male|54.0|    0|    0|           17463|51.8625|  E46|       S|\n",
            "|          8|       0|     3|Palsson, Master. ...|  male| 2.0|    3|    1|          349909| 21.075| null|       S|\n",
            "|          9|       1|     3|Johnson, Mrs. Osc...|female|27.0|    0|    2|          347742|11.1333| null|       S|\n",
            "|         10|       1|     2|Nasser, Mrs. Nich...|female|14.0|    1|    0|          237736|30.0708| null|       C|\n",
            "|         11|       1|     3|Sandstrom, Miss. ...|female| 4.0|    1|    1|         PP 9549|   16.7|   G6|       S|\n",
            "|         12|       1|     1|Bonnell, Miss. El...|female|58.0|    0|    0|          113783|  26.55| C103|       S|\n",
            "|         13|       0|     3|Saundercock, Mr. ...|  male|20.0|    0|    0|       A/5. 2151|   8.05| null|       S|\n",
            "|         14|       0|     3|Andersson, Mr. An...|  male|39.0|    1|    5|          347082| 31.275| null|       S|\n",
            "|         15|       0|     3|Vestrom, Miss. Hu...|female|14.0|    0|    0|          350406| 7.8542| null|       S|\n",
            "|         16|       1|     2|Hewlett, Mrs. (Ma...|female|55.0|    0|    0|          248706|   16.0| null|       S|\n",
            "|         17|       0|     3|Rice, Master. Eugene|  male| 2.0|    4|    1|          382652| 29.125| null|       Q|\n",
            "|         18|       1|     2|Williams, Mr. Cha...|  male|null|    0|    0|          244373|   13.0| null|       S|\n",
            "|         19|       0|     3|Vander Planke, Mr...|female|31.0|    1|    0|          345763|   18.0| null|       S|\n",
            "|         20|       1|     3|Masselmani, Mrs. ...|female|null|    0|    0|            2649|  7.225| null|       C|\n",
            "+-----------+--------+------+--------------------+------+----+-----+-----+----------------+-------+-----+--------+\n",
            "only showing top 20 rows\n",
            "\n"
          ]
        }
      ]
    },
    {
      "cell_type": "code",
      "source": [
        "#Gemiden kurtulma durumuna göre ödenen en yüksek ve en düşük bilet fiyatını bulunuz.\n",
        "\n",
        "df_passengers.groupBy(\"Survived\").agg(max(col(\"Fare\")),min(col(\"Fare\"))).show()\n",
        "\n"
      ],
      "metadata": {
        "id": "LirhBcWy5lVI",
        "colab": {
          "base_uri": "https://localhost:8080/"
        },
        "outputId": "1f08193d-9025-41d2-a075-ec18e66822f0"
      },
      "execution_count": 15,
      "outputs": [
        {
          "output_type": "stream",
          "name": "stdout",
          "text": [
            "+--------+---------+---------+\n",
            "|Survived|max(Fare)|min(Fare)|\n",
            "+--------+---------+---------+\n",
            "|       0|    263.0|      0.0|\n",
            "|       1| 512.3292|      0.0|\n",
            "+--------+---------+---------+\n",
            "\n"
          ]
        }
      ]
    },
    {
      "cell_type": "code",
      "source": [
        "#Yolcuların(18 yaş ve altı çocuklar hariç) cinsiyete göre ortalama yaşlarını bulunuz.\n",
        "\n",
        "df_passengers.where(col(\"Age\")>18).groupBy(\"Sex\").agg(avg(col(\"Age\"))).show()"
      ],
      "metadata": {
        "id": "E45wiWDy6K6f",
        "colab": {
          "base_uri": "https://localhost:8080/"
        },
        "outputId": "9b7ba7ac-560d-49f6-a360-9fbd7367df47"
      },
      "execution_count": null,
      "outputs": [
        {
          "output_type": "stream",
          "name": "stdout",
          "text": [
            "+------+------------------+\n",
            "|   Sex|          avg(Age)|\n",
            "+------+------------------+\n",
            "|female| 33.90673575129534|\n",
            "|  male|34.480366492146594|\n",
            "+------+------------------+\n",
            "\n"
          ]
        }
      ]
    },
    {
      "cell_type": "code",
      "source": [
        "#Aynı kabinde yolculuk yapan erkek ve kadınların eşleşmesi yapılması için aşağıdaki sorgu yazılmışmış fakat sorguda ufak bir eksiklik var, eksik olan parçayı tamamlayınız.\n",
        "df_passengers.alias(\"m\") \\\n",
        ".join(df_passengers.alias(\"f\"),\n",
        "      on=((col(\"m.Cabin\")==col(\"f.Cabin\"))),\n",
        "      how=\"inner\") \\\n",
        ".where((col(\"m.Sex\")==\"male\")&(col(\"f.Sex\")==\"female\")) \\\n",
        ".select(col(\"m.Cabin\"),col(\"f.Name\").alias(\"Kadın Yolcu\"),col(\"m.Name\").alias(\"Erkek Yolcu\")).show(100,200)"
      ],
      "metadata": {
        "id": "ZA6C1-MD7B25",
        "colab": {
          "base_uri": "https://localhost:8080/"
        },
        "outputId": "b76e8f88-f6f5-41bc-e7b4-881e40aa9974"
      },
      "execution_count": 16,
      "outputs": [
        {
          "output_type": "stream",
          "name": "stdout",
          "text": [
            "+-----------+----------------------------------------------------------------------------------+------------------------------------------+\n",
            "|      Cabin|                                                                       Kadın Yolcu|                               Erkek Yolcu|\n",
            "+-----------+----------------------------------------------------------------------------------+------------------------------------------+\n",
            "|C23 C25 C27|                                                    Fortune, Miss. Alice Elizabeth|            Fortune, Mr. Charles Alexander|\n",
            "|C23 C25 C27|                                                        Fortune, Miss. Mabel Helen|            Fortune, Mr. Charles Alexander|\n",
            "|        C83|                                      Harris, Mrs. Henry Birkhardt (Irene Wallach)|               Harris, Mr. Henry Birkhardt|\n",
            "|    B58 B60|                                   Baxter, Mrs. James (Helene DeLaudeniere Chaput)|                  Baxter, Mr. Quigg Edmond|\n",
            "|       C123|                                      Futrelle, Mrs. Jacques Heath (Lily May Peel)|               Futrelle, Mr. Jacques Heath|\n",
            "|         F4|                                                       Becker, Miss. Marion Louise|                 Becker, Master. Richard F|\n",
            "|        C93|                                   Hoyt, Mrs. Frederick Maxfield (Jane Anne Forby)|              Hoyt, Mr. Frederick Maxfield|\n",
            "|        C78|                                                            Minahan, Miss. Daisy E|               Minahan, Dr. William Edward|\n",
            "|        D35|                                  Beckwith, Mrs. Richard Leonard (Sallie Monypeny)|             Beckwith, Mr. Richard Leonard|\n",
            "|        E67|                                            Taussig, Mrs. Emil (Tillie Mandelbaum)|                         Taussig, Mr. Emil|\n",
            "|          D|                                      Jerwan, Mrs. Amin S (Marie Marthe Thuillard)|                    Levy, Mr. Rene Jacques|\n",
            "|          D|                                                           Ball, Mrs. (Ada E Hall)|                    Levy, Mr. Rene Jacques|\n",
            "|    C22 C26|                                   Allison, Mrs. Hudson J C (Bessie Waldo Daniels)|            Allison, Master. Hudson Trevor|\n",
            "|    C22 C26|                                                      Allison, Miss. Helen Loraine|            Allison, Master. Hudson Trevor|\n",
            "|         C2|                                                 Pears, Mrs. Thomas (Edith Wearne)|                 Pears, Mr. Thomas Clinton|\n",
            "|    B96 B98|                                         Carter, Mrs. William Ernest (Lucile Polk)|                Carter, Mr. William Ernest|\n",
            "|    B96 B98|                                                         Carter, Miss. Lucile Polk|                Carter, Mr. William Ernest|\n",
            "|        E44|                                         Silvey, Mrs. William Baird (Alice Munger)|                 Silvey, Mr. William Baird|\n",
            "|C23 C25 C27|                                                    Fortune, Miss. Alice Elizabeth|                         Fortune, Mr. Mark|\n",
            "|C23 C25 C27|                                                        Fortune, Miss. Mabel Helen|                         Fortune, Mr. Mark|\n",
            "|        C92|                                      Goldenberg, Mrs. Samuel L (Edwiga Grabowska)|                  Goldenberg, Mr. Samuel L|\n",
            "|        B49|                                           Bishop, Mrs. Dickinson H (Helen Walton)|                   Bishop, Mr. Dickinson H|\n",
            "|        C65|Penasco y Castellana, Mrs. Victor de Satode (Maria Josefa Perez de Soto y Vallejo)|Penasco y Castellana, Mr. Victor de Satode|\n",
            "|        D33|                                          Harper, Mrs. Henry Sleeper (Myna Haxtun)|                 Harper, Mr. Henry Sleeper|\n",
            "|        B20|                                         Dick, Mrs. Albert Adrian (Vera Gillespie)|                   Dick, Mr. Albert Adrian|\n",
            "|        C68|                              Thayer, Mrs. John Borland (Marian Longstreth Morris)|                  Thayer, Mr. John Borland|\n",
            "|       C126|                                 Taylor, Mrs. Elmer Zebley (Juliet Cummins Wright)|                  Taylor, Mr. Elmer Zebley|\n",
            "|         E8|                                    Chambers, Mrs. Norman Campbell (Bertha Griggs)|             Chambers, Mr. Norman Campbell|\n",
            "|        B22|                                                           Crosby, Miss. Harriet R|              Crosby, Capt. Edward Gifford|\n",
            "|       E121|                                                                Moor, Mrs. (Beila)|                       Moor, Master. Meier|\n",
            "|    B96 B98|                                         Carter, Mrs. William Ernest (Lucile Polk)|       Carter, Master. William Thornton II|\n",
            "|    B96 B98|                                                         Carter, Miss. Lucile Polk|       Carter, Master. William Thornton II|\n",
            "+-----------+----------------------------------------------------------------------------------+------------------------------------------+\n",
            "\n"
          ]
        }
      ]
    },
    {
      "cell_type": "code",
      "source": [
        "#veriye yolcunun yaşına göre belirlenecek yeni bir kolon eklenmek isteniyor(AgeCategory). Kolon içeriğinde;\n",
        "#0-10 yaş arası yolcular -> Çocuk\n",
        "#11-18 yaş arası yolcular -> Genç\n",
        "#19 ve üstü yolcular -> Yetişkin\n",
        "#bilgisi yazılması isteniyor. Bu yeni kolonu ekleyiniz.\n",
        "\n",
        "df_passengers.withColumn(\"AgeCategory\",\\\n",
        "                         when((col(\"Age\")>=0) & (col(\"Age\")<=10), lit(\"Çocuk\"))\\\n",
        "                         .when((col(\"Age\")>=11) & (col(\"Age\")<=18), lit(\"Genç\"))\\\n",
        "                         .when(col(\"Age\")>18, lit(\"Yetişkin\"))\\\n",
        "                         .otherwise(lit(\"Unknown\"))).show()"
      ],
      "metadata": {
        "id": "djyxza0s9II3",
        "colab": {
          "base_uri": "https://localhost:8080/"
        },
        "outputId": "354bc40f-f036-4b68-ff32-76be12a7d458"
      },
      "execution_count": 17,
      "outputs": [
        {
          "output_type": "stream",
          "name": "stdout",
          "text": [
            "+-----------+--------+------+--------------------+------+----+-----+-----+----------------+-------+-----+--------+-----------+\n",
            "|PassengerId|Survived|Pclass|                Name|   Sex| Age|SibSp|Parch|          Ticket|   Fare|Cabin|Embarked|AgeCategory|\n",
            "+-----------+--------+------+--------------------+------+----+-----+-----+----------------+-------+-----+--------+-----------+\n",
            "|          1|       0|     3|Braund, Mr. Owen ...|  male|22.0|    1|    0|       A/5 21171|   7.25| null|       S|   Yetişkin|\n",
            "|          2|       1|     1|Cumings, Mrs. Joh...|female|38.0|    1|    0|        PC 17599|71.2833|  C85|       C|   Yetişkin|\n",
            "|          3|       1|     3|Heikkinen, Miss. ...|female|26.0|    0|    0|STON/O2. 3101282|  7.925| null|       S|   Yetişkin|\n",
            "|          4|       1|     1|Futrelle, Mrs. Ja...|female|35.0|    1|    0|          113803|   53.1| C123|       S|   Yetişkin|\n",
            "|          5|       0|     3|Allen, Mr. Willia...|  male|35.0|    0|    0|          373450|   8.05| null|       S|   Yetişkin|\n",
            "|          6|       0|     3|    Moran, Mr. James|  male|null|    0|    0|          330877| 8.4583| null|       Q|    Unknown|\n",
            "|          7|       0|     1|McCarthy, Mr. Tim...|  male|54.0|    0|    0|           17463|51.8625|  E46|       S|   Yetişkin|\n",
            "|          8|       0|     3|Palsson, Master. ...|  male| 2.0|    3|    1|          349909| 21.075| null|       S|      Çocuk|\n",
            "|          9|       1|     3|Johnson, Mrs. Osc...|female|27.0|    0|    2|          347742|11.1333| null|       S|   Yetişkin|\n",
            "|         10|       1|     2|Nasser, Mrs. Nich...|female|14.0|    1|    0|          237736|30.0708| null|       C|       Genç|\n",
            "|         11|       1|     3|Sandstrom, Miss. ...|female| 4.0|    1|    1|         PP 9549|   16.7|   G6|       S|      Çocuk|\n",
            "|         12|       1|     1|Bonnell, Miss. El...|female|58.0|    0|    0|          113783|  26.55| C103|       S|   Yetişkin|\n",
            "|         13|       0|     3|Saundercock, Mr. ...|  male|20.0|    0|    0|       A/5. 2151|   8.05| null|       S|   Yetişkin|\n",
            "|         14|       0|     3|Andersson, Mr. An...|  male|39.0|    1|    5|          347082| 31.275| null|       S|   Yetişkin|\n",
            "|         15|       0|     3|Vestrom, Miss. Hu...|female|14.0|    0|    0|          350406| 7.8542| null|       S|       Genç|\n",
            "|         16|       1|     2|Hewlett, Mrs. (Ma...|female|55.0|    0|    0|          248706|   16.0| null|       S|   Yetişkin|\n",
            "|         17|       0|     3|Rice, Master. Eugene|  male| 2.0|    4|    1|          382652| 29.125| null|       Q|      Çocuk|\n",
            "|         18|       1|     2|Williams, Mr. Cha...|  male|null|    0|    0|          244373|   13.0| null|       S|    Unknown|\n",
            "|         19|       0|     3|Vander Planke, Mr...|female|31.0|    1|    0|          345763|   18.0| null|       S|   Yetişkin|\n",
            "|         20|       1|     3|Masselmani, Mrs. ...|female|null|    0|    0|            2649|  7.225| null|       C|    Unknown|\n",
            "+-----------+--------+------+--------------------+------+----+-----+-----+----------------+-------+-----+--------+-----------+\n",
            "only showing top 20 rows\n",
            "\n"
          ]
        }
      ]
    },
    {
      "cell_type": "code",
      "source": [
        "#spark'ta bir dataframe sorgu içnide de kullanılabilir. AgeCategory(bir üst sorunın çıktısı olan kolon) kolonuna göre yolcu sayısını veren SQL sorgunu düzenleyiniz.\n",
        "df_passengers.createOrReplaceTempView(\"passengers\")\n",
        "spark.sql(\"SELECT AgeCategory, COUNT(*) as PassengersByAge FROM(  \\\n",
        "      SELECT  \\\n",
        "        CASE  \\\n",
        "            when Age >= 0 AND Age <= 10 then 'Çocuk'  \\\n",
        "            when Age >= 11 AND Age <= 18 then 'Genç'  \\\n",
        "            when Age > 18 then 'Yetişkin'  \\\n",
        "            else 'Unknown'  \\\n",
        "        END AS AgeCategory  \\\n",
        "    FROM passengers)  \\\n",
        "    GROUP BY AgeCategory\").show()"
      ],
      "metadata": {
        "colab": {
          "base_uri": "https://localhost:8080/"
        },
        "id": "GmVuw1y2-bx_",
        "outputId": "3831b9e0-149d-4f53-ee75-38b334ae08ca"
      },
      "execution_count": 26,
      "outputs": [
        {
          "output_type": "stream",
          "name": "stdout",
          "text": [
            "+-----------+---------------+\n",
            "|AgeCategory|PassengersByAge|\n",
            "+-----------+---------------+\n",
            "|    Unknown|            177|\n",
            "|       Genç|             75|\n",
            "|      Çocuk|             64|\n",
            "|   Yetişkin|            575|\n",
            "+-----------+---------------+\n",
            "\n"
          ]
        }
      ]
    }
  ]
}